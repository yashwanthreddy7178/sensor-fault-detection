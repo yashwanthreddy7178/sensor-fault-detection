{
 "cells": [
  {
   "cell_type": "code",
   "execution_count": 1,
   "metadata": {},
   "outputs": [],
   "source": [
    "import pandas as pd"
   ]
  },
  {
   "cell_type": "code",
   "execution_count": 2,
   "metadata": {},
   "outputs": [],
   "source": [
    "df = pd.DataFrame([[1,2],[1,2]])"
   ]
  },
  {
   "cell_type": "code",
   "execution_count": 3,
   "metadata": {},
   "outputs": [],
   "source": [
    "from datetime import datetime"
   ]
  },
  {
   "cell_type": "code",
   "execution_count": 4,
   "metadata": {},
   "outputs": [
    {
     "data": {
      "text/plain": [
       "1704995966"
      ]
     },
     "execution_count": 4,
     "metadata": {},
     "output_type": "execute_result"
    }
   ],
   "source": [
    "round(datetime.now().timestamp())"
   ]
  },
  {
   "cell_type": "code",
   "execution_count": 5,
   "metadata": {},
   "outputs": [
    {
     "data": {
      "text/html": [
       "<div>\n",
       "<style scoped>\n",
       "    .dataframe tbody tr th:only-of-type {\n",
       "        vertical-align: middle;\n",
       "    }\n",
       "\n",
       "    .dataframe tbody tr th {\n",
       "        vertical-align: top;\n",
       "    }\n",
       "\n",
       "    .dataframe thead th {\n",
       "        text-align: right;\n",
       "    }\n",
       "</style>\n",
       "<table border=\"1\" class=\"dataframe\">\n",
       "  <thead>\n",
       "    <tr style=\"text-align: right;\">\n",
       "      <th></th>\n",
       "      <th>0</th>\n",
       "      <th>1</th>\n",
       "    </tr>\n",
       "  </thead>\n",
       "  <tbody>\n",
       "    <tr>\n",
       "      <th>0</th>\n",
       "      <td>1</td>\n",
       "      <td>2</td>\n",
       "    </tr>\n",
       "    <tr>\n",
       "      <th>1</th>\n",
       "      <td>1</td>\n",
       "      <td>2</td>\n",
       "    </tr>\n",
       "  </tbody>\n",
       "</table>\n",
       "</div>"
      ],
      "text/plain": [
       "   0  1\n",
       "0  1  2\n",
       "1  1  2"
      ]
     },
     "execution_count": 5,
     "metadata": {},
     "output_type": "execute_result"
    }
   ],
   "source": [
    "df"
   ]
  },
  {
   "cell_type": "code",
   "execution_count": 6,
   "metadata": {},
   "outputs": [
    {
     "data": {
      "text/html": [
       "<div>\n",
       "<style scoped>\n",
       "    .dataframe tbody tr th:only-of-type {\n",
       "        vertical-align: middle;\n",
       "    }\n",
       "\n",
       "    .dataframe tbody tr th {\n",
       "        vertical-align: top;\n",
       "    }\n",
       "\n",
       "    .dataframe thead th {\n",
       "        text-align: right;\n",
       "    }\n",
       "</style>\n",
       "<table border=\"1\" class=\"dataframe\">\n",
       "  <thead>\n",
       "    <tr style=\"text-align: right;\">\n",
       "      <th></th>\n",
       "      <th>0</th>\n",
       "      <th>1</th>\n",
       "    </tr>\n",
       "  </thead>\n",
       "  <tbody>\n",
       "    <tr>\n",
       "      <th>0</th>\n",
       "      <td>1</td>\n",
       "      <td>2</td>\n",
       "    </tr>\n",
       "    <tr>\n",
       "      <th>1</th>\n",
       "      <td>1</td>\n",
       "      <td>2</td>\n",
       "    </tr>\n",
       "    <tr>\n",
       "      <th>0</th>\n",
       "      <td>1</td>\n",
       "      <td>2</td>\n",
       "    </tr>\n",
       "    <tr>\n",
       "      <th>1</th>\n",
       "      <td>1</td>\n",
       "      <td>2</td>\n",
       "    </tr>\n",
       "  </tbody>\n",
       "</table>\n",
       "</div>"
      ],
      "text/plain": [
       "   0  1\n",
       "0  1  2\n",
       "1  1  2\n",
       "0  1  2\n",
       "1  1  2"
      ]
     },
     "execution_count": 6,
     "metadata": {},
     "output_type": "execute_result"
    }
   ],
   "source": [
    "pd.concat([df,df])"
   ]
  },
  {
   "cell_type": "code",
   "execution_count": 7,
   "metadata": {},
   "outputs": [],
   "source": [
    "from sensor.utils.main_utils import read_yaml_file"
   ]
  },
  {
   "cell_type": "code",
   "execution_count": 8,
   "metadata": {},
   "outputs": [],
   "source": [
    "file_path=\"config\\schema.yaml\""
   ]
  },
  {
   "cell_type": "code",
   "execution_count": 9,
   "metadata": {},
   "outputs": [],
   "source": [
    "schema_config = read_yaml_file(file_path=file_path)"
   ]
  },
  {
   "cell_type": "code",
   "execution_count": 11,
   "metadata": {},
   "outputs": [
    {
     "data": {
      "text/plain": [
       "164"
      ]
     },
     "execution_count": 11,
     "metadata": {},
     "output_type": "execute_result"
    }
   ],
   "source": [
    "len(schema_config['columns'])#==len(df.columns)"
   ]
  },
  {
   "cell_type": "code",
   "execution_count": 12,
   "metadata": {},
   "outputs": [],
   "source": [
    "from scipy.stats import ks_2samp"
   ]
  },
  {
   "cell_type": "code",
   "execution_count": 13,
   "metadata": {},
   "outputs": [],
   "source": [
    "import numpy as np"
   ]
  },
  {
   "cell_type": "code",
   "execution_count": 14,
   "metadata": {},
   "outputs": [],
   "source": [
    "d1 = np.arange(100,200)\n",
    "d2 = np.arange(10)"
   ]
  },
  {
   "cell_type": "code",
   "execution_count": 15,
   "metadata": {},
   "outputs": [
    {
     "data": {
      "text/plain": [
       "array([100, 101, 102, 103, 104, 105, 106, 107, 108, 109, 110, 111, 112,\n",
       "       113, 114, 115, 116, 117, 118, 119, 120, 121, 122, 123, 124, 125,\n",
       "       126, 127, 128, 129, 130, 131, 132, 133, 134, 135, 136, 137, 138,\n",
       "       139, 140, 141, 142, 143, 144, 145, 146, 147, 148, 149, 150, 151,\n",
       "       152, 153, 154, 155, 156, 157, 158, 159, 160, 161, 162, 163, 164,\n",
       "       165, 166, 167, 168, 169, 170, 171, 172, 173, 174, 175, 176, 177,\n",
       "       178, 179, 180, 181, 182, 183, 184, 185, 186, 187, 188, 189, 190,\n",
       "       191, 192, 193, 194, 195, 196, 197, 198, 199])"
      ]
     },
     "execution_count": 15,
     "metadata": {},
     "output_type": "execute_result"
    }
   ],
   "source": [
    "d1"
   ]
  },
  {
   "cell_type": "code",
   "execution_count": 16,
   "metadata": {},
   "outputs": [
    {
     "data": {
      "text/plain": [
       "array([0, 1, 2, 3, 4, 5, 6, 7, 8, 9])"
      ]
     },
     "execution_count": 16,
     "metadata": {},
     "output_type": "execute_result"
    }
   ],
   "source": [
    "d2"
   ]
  },
  {
   "cell_type": "code",
   "execution_count": 17,
   "metadata": {},
   "outputs": [
    {
     "data": {
      "text/plain": [
       "array([100, 101, 102, 103, 104, 105, 106, 107, 108, 109, 110, 111, 112,\n",
       "       113, 114, 115, 116, 117, 118, 119, 120, 121, 122, 123, 124, 125,\n",
       "       126, 127, 128, 129, 130, 131, 132, 133, 134, 135, 136, 137, 138,\n",
       "       139, 140, 141, 142, 143, 144, 145, 146, 147, 148, 149, 150, 151,\n",
       "       152, 153, 154, 155, 156, 157, 158, 159, 160, 161, 162, 163, 164,\n",
       "       165, 166, 167, 168, 169, 170, 171, 172, 173, 174, 175, 176, 177,\n",
       "       178, 179, 180, 181, 182, 183, 184, 185, 186, 187, 188, 189, 190,\n",
       "       191, 192, 193, 194, 195, 196, 197, 198, 199])"
      ]
     },
     "execution_count": 17,
     "metadata": {},
     "output_type": "execute_result"
    }
   ],
   "source": [
    "d1"
   ]
  },
  {
   "cell_type": "code",
   "execution_count": 28,
   "metadata": {},
   "outputs": [
    {
     "data": {
      "text/plain": [
       "array([0, 1, 2, 3, 4, 5, 6, 7, 8, 9])"
      ]
     },
     "execution_count": 28,
     "metadata": {},
     "output_type": "execute_result"
    }
   ],
   "source": [
    "d2"
   ]
  },
  {
   "cell_type": "code",
   "execution_count": 18,
   "metadata": {},
   "outputs": [],
   "source": [
    "test = ks_2samp(d1,d2)"
   ]
  },
  {
   "cell_type": "code",
   "execution_count": 19,
   "metadata": {},
   "outputs": [
    {
     "data": {
      "text/plain": [
       "0"
      ]
     },
     "execution_count": 19,
     "metadata": {},
     "output_type": "execute_result"
    }
   ],
   "source": [
    "round(test.pvalue)"
   ]
  },
  {
   "cell_type": "code",
   "execution_count": 27,
   "metadata": {},
   "outputs": [],
   "source": [
    "traing_file_path = \"artifact/01_07_2024_20_53_29/data_ingestion/ingested/train.csv\""
   ]
  },
  {
   "cell_type": "code",
   "execution_count": 28,
   "metadata": {},
   "outputs": [],
   "source": [
    "test_file_path = \"artifact/01_07_2024_20_53_29/data_ingestion/ingested/test.csv\""
   ]
  },
  {
   "cell_type": "code",
   "execution_count": 22,
   "metadata": {},
   "outputs": [],
   "source": [
    "import pandas as pd"
   ]
  },
  {
   "cell_type": "code",
   "execution_count": 29,
   "metadata": {},
   "outputs": [],
   "source": [
    "train_df = pd.read_csv(traing_file_path)\n",
    "test_df = pd.read_csv(test_file_path)"
   ]
  },
  {
   "cell_type": "code",
   "execution_count": 30,
   "metadata": {},
   "outputs": [
    {
     "data": {
      "text/plain": [
       "Index(['class', 'aa_000', 'ac_000', 'ad_000', 'ae_000', 'af_000', 'ag_000',\n",
       "       'ag_001', 'ag_002', 'ag_003',\n",
       "       ...\n",
       "       'ee_002', 'ee_003', 'ee_004', 'ee_005', 'ee_006', 'ee_007', 'ee_008',\n",
       "       'ee_009', 'ef_000', 'eg_000'],\n",
       "      dtype='object', length=164)"
      ]
     },
     "execution_count": 30,
     "metadata": {},
     "output_type": "execute_result"
    }
   ],
   "source": [
    "train_df.columns"
   ]
  },
  {
   "cell_type": "code",
   "execution_count": 31,
   "metadata": {},
   "outputs": [
    {
     "data": {
      "text/plain": [
       "Index(['class', 'aa_000', 'ac_000', 'ad_000', 'ae_000', 'af_000', 'ag_000',\n",
       "       'ag_001', 'ag_002', 'ag_003',\n",
       "       ...\n",
       "       'ee_002', 'ee_003', 'ee_004', 'ee_005', 'ee_006', 'ee_007', 'ee_008',\n",
       "       'ee_009', 'ef_000', 'eg_000'],\n",
       "      dtype='object', length=164)"
      ]
     },
     "execution_count": 31,
     "metadata": {},
     "output_type": "execute_result"
    }
   ],
   "source": [
    "test_df.columns"
   ]
  },
  {
   "cell_type": "code",
   "execution_count": 32,
   "metadata": {},
   "outputs": [],
   "source": [
    "from sensor.utils.main_utils import write_yaml_file"
   ]
  },
  {
   "cell_type": "code",
   "execution_count": 33,
   "metadata": {},
   "outputs": [],
   "source": [
    "\n",
    "def get_drift_report(base_df,current_df,threshold=0.05):\n",
    "    report ={}\n",
    "    for column in base_df.columns:\n",
    "        d1 = base_df[column]\n",
    "        d2  = current_df[column]\n",
    "        is_same_dist = ks_2samp(d1,d2)\n",
    "        if threshold<=is_same_dist.pvalue:\n",
    "            is_found=False\n",
    "        else:\n",
    "            is_found = True \n",
    "        report.update({column:{\n",
    "            \"p_value\":float(is_same_dist.pvalue),\n",
    "            \"drift_status\":is_found\n",
    "            \n",
    "            }})\n",
    "    return report\n",
    "\n"
   ]
  },
  {
   "cell_type": "code",
   "execution_count": 34,
   "metadata": {},
   "outputs": [],
   "source": [
    "drift_report = get_drift_report(train_df,test_df)"
   ]
  },
  {
   "cell_type": "code",
   "execution_count": 35,
   "metadata": {},
   "outputs": [
    {
     "data": {
      "text/plain": [
       "{'class': {'p_value': 0.999954896778801, 'drift_status': False},\n",
       " 'aa_000': {'p_value': 0.37576741927488366, 'drift_status': False},\n",
       " 'ac_000': {'p_value': 0.0491932302746767, 'drift_status': True},\n",
       " 'ad_000': {'p_value': 0.7639232413083112, 'drift_status': False},\n",
       " 'ae_000': {'p_value': 1.0, 'drift_status': False},\n",
       " 'af_000': {'p_value': 0.9999999999878666, 'drift_status': False},\n",
       " 'ag_000': {'p_value': 1.0, 'drift_status': False},\n",
       " 'ag_001': {'p_value': 1.0, 'drift_status': False},\n",
       " 'ag_002': {'p_value': 0.9949919202411758, 'drift_status': False},\n",
       " 'ag_003': {'p_value': 0.9995612139504363, 'drift_status': False},\n",
       " 'ag_004': {'p_value': 0.9751708475834523, 'drift_status': False},\n",
       " 'ag_005': {'p_value': 0.8446855927453139, 'drift_status': False},\n",
       " 'ag_006': {'p_value': 0.5952063008172354, 'drift_status': False},\n",
       " 'ag_007': {'p_value': 0.6504079084070367, 'drift_status': False},\n",
       " 'ag_008': {'p_value': 0.9966142061452268, 'drift_status': False},\n",
       " 'ag_009': {'p_value': 0.9248611025221779, 'drift_status': False},\n",
       " 'ah_000': {'p_value': 0.3868210508654154, 'drift_status': False},\n",
       " 'ai_000': {'p_value': 0.854036859088523, 'drift_status': False},\n",
       " 'aj_000': {'p_value': 0.9999928201506714, 'drift_status': False},\n",
       " 'ak_000': {'p_value': 1.0, 'drift_status': False},\n",
       " 'al_000': {'p_value': 0.1287739470967565, 'drift_status': False},\n",
       " 'am_0': {'p_value': 0.2008070605950677, 'drift_status': False},\n",
       " 'an_000': {'p_value': 0.41310836980510734, 'drift_status': False},\n",
       " 'ao_000': {'p_value': 0.5843652691004154, 'drift_status': False},\n",
       " 'ap_000': {'p_value': 0.2994912640567927, 'drift_status': False},\n",
       " 'aq_000': {'p_value': 0.7041284475528038, 'drift_status': False},\n",
       " 'ar_000': {'p_value': 0.9924437863305567, 'drift_status': False},\n",
       " 'as_000': {'p_value': 1.0, 'drift_status': False},\n",
       " 'at_000': {'p_value': 0.9999999726317061, 'drift_status': False},\n",
       " 'au_000': {'p_value': 0.999999999979682, 'drift_status': False},\n",
       " 'av_000': {'p_value': 0.6568332102981147, 'drift_status': False},\n",
       " 'ax_000': {'p_value': 0.8992382124392754, 'drift_status': False},\n",
       " 'ay_000': {'p_value': 1.0, 'drift_status': False},\n",
       " 'ay_001': {'p_value': 0.9999982847340279, 'drift_status': False},\n",
       " 'ay_002': {'p_value': 0.999997740806815, 'drift_status': False},\n",
       " 'ay_003': {'p_value': 0.9999449374511141, 'drift_status': False},\n",
       " 'ay_004': {'p_value': 0.9999999999999998, 'drift_status': False},\n",
       " 'ay_005': {'p_value': 0.999945787484924, 'drift_status': False},\n",
       " 'ay_006': {'p_value': 0.6004230866104974, 'drift_status': False},\n",
       " 'ay_007': {'p_value': 0.7192775138824348, 'drift_status': False},\n",
       " 'ay_008': {'p_value': 0.3405403872880486, 'drift_status': False},\n",
       " 'ay_009': {'p_value': 1.0, 'drift_status': False},\n",
       " 'az_000': {'p_value': 0.8391959838242198, 'drift_status': False},\n",
       " 'az_001': {'p_value': 0.9291248273914107, 'drift_status': False},\n",
       " 'az_002': {'p_value': 0.8405900107592114, 'drift_status': False},\n",
       " 'az_003': {'p_value': 0.9295996550618714, 'drift_status': False},\n",
       " 'az_004': {'p_value': 0.5418386243119628, 'drift_status': False},\n",
       " 'az_005': {'p_value': 0.960699242666748, 'drift_status': False},\n",
       " 'az_006': {'p_value': 0.12924523563429513, 'drift_status': False},\n",
       " 'az_007': {'p_value': 0.9996323094880091, 'drift_status': False},\n",
       " 'az_008': {'p_value': 0.9999999999446538, 'drift_status': False},\n",
       " 'az_009': {'p_value': 1.0, 'drift_status': False},\n",
       " 'ba_000': {'p_value': 0.9178586865227616, 'drift_status': False},\n",
       " 'ba_001': {'p_value': 0.29920929878393876, 'drift_status': False},\n",
       " 'ba_002': {'p_value': 0.3486272281666636, 'drift_status': False},\n",
       " 'ba_003': {'p_value': 0.5008139580752269, 'drift_status': False},\n",
       " 'ba_004': {'p_value': 0.6405751507654911, 'drift_status': False},\n",
       " 'ba_005': {'p_value': 0.7697579971574695, 'drift_status': False},\n",
       " 'ba_006': {'p_value': 0.42779844633722963, 'drift_status': False},\n",
       " 'ba_007': {'p_value': 0.43589088624378125, 'drift_status': False},\n",
       " 'ba_008': {'p_value': 0.9420685559715242, 'drift_status': False},\n",
       " 'ba_009': {'p_value': 0.8270193711652055, 'drift_status': False},\n",
       " 'bb_000': {'p_value': 0.4513614921518784, 'drift_status': False},\n",
       " 'bc_000': {'p_value': 0.9904615016121804, 'drift_status': False},\n",
       " 'bd_000': {'p_value': 0.3867604695593764, 'drift_status': False},\n",
       " 'be_000': {'p_value': 0.10426855432332649, 'drift_status': False},\n",
       " 'bf_000': {'p_value': 0.9889727500358416, 'drift_status': False},\n",
       " 'bg_000': {'p_value': 0.37955294101538417, 'drift_status': False},\n",
       " 'bh_000': {'p_value': 0.53871766512792, 'drift_status': False},\n",
       " 'bi_000': {'p_value': 0.3044656625654152, 'drift_status': False},\n",
       " 'bj_000': {'p_value': 0.6980762482625082, 'drift_status': False},\n",
       " 'bk_000': {'p_value': 0.6451278419748447, 'drift_status': False},\n",
       " 'bl_000': {'p_value': 0.9085700272351289, 'drift_status': False},\n",
       " 'bm_000': {'p_value': 0.13403344612122614, 'drift_status': False},\n",
       " 'bs_000': {'p_value': 0.21911311413512113, 'drift_status': False},\n",
       " 'bt_000': {'p_value': 0.45981683931747663, 'drift_status': False},\n",
       " 'bu_000': {'p_value': 0.4715742157184697, 'drift_status': False},\n",
       " 'bv_000': {'p_value': 0.4715742157184697, 'drift_status': False},\n",
       " 'bx_000': {'p_value': 0.5316134690847703, 'drift_status': False},\n",
       " 'by_000': {'p_value': 0.7654355268892756, 'drift_status': False},\n",
       " 'bz_000': {'p_value': 0.9726228350990367, 'drift_status': False},\n",
       " 'ca_000': {'p_value': 0.748727524729247, 'drift_status': False},\n",
       " 'cb_000': {'p_value': 0.39971200701082255, 'drift_status': False},\n",
       " 'cc_000': {'p_value': 0.603162363695408, 'drift_status': False},\n",
       " 'cd_000': {'p_value': 1.0, 'drift_status': False},\n",
       " 'ce_000': {'p_value': 0.9429452042686886, 'drift_status': False},\n",
       " 'cf_000': {'p_value': 0.82944469545201, 'drift_status': False},\n",
       " 'cg_000': {'p_value': 0.20515337190574112, 'drift_status': False},\n",
       " 'ch_000': {'p_value': 0.8333488399621813, 'drift_status': False},\n",
       " 'ci_000': {'p_value': 0.49693171315653406, 'drift_status': False},\n",
       " 'cj_000': {'p_value': 0.9997714266959564, 'drift_status': False},\n",
       " 'ck_000': {'p_value': 0.2933093785337485, 'drift_status': False},\n",
       " 'cl_000': {'p_value': 0.3940195845490565, 'drift_status': False},\n",
       " 'cm_000': {'p_value': 0.3432268835049799, 'drift_status': False},\n",
       " 'cn_000': {'p_value': 0.9999997876390118, 'drift_status': False},\n",
       " 'cn_001': {'p_value': 0.9132269028806093, 'drift_status': False},\n",
       " 'cn_002': {'p_value': 0.5940783212294731, 'drift_status': False},\n",
       " 'cn_003': {'p_value': 0.5897269524023121, 'drift_status': False},\n",
       " 'cn_004': {'p_value': 0.9111746743412211, 'drift_status': False},\n",
       " 'cn_005': {'p_value': 0.9489391895803239, 'drift_status': False},\n",
       " 'cn_006': {'p_value': 0.7350686481823702, 'drift_status': False},\n",
       " 'cn_007': {'p_value': 0.6562381776294819, 'drift_status': False},\n",
       " 'cn_008': {'p_value': 0.6486278459548566, 'drift_status': False},\n",
       " 'cn_009': {'p_value': 0.9723007475834096, 'drift_status': False},\n",
       " 'co_000': {'p_value': 0.4855333815337135, 'drift_status': False},\n",
       " 'cp_000': {'p_value': 0.5615722792681805, 'drift_status': False},\n",
       " 'cq_000': {'p_value': 0.4715742157184697, 'drift_status': False},\n",
       " 'cs_000': {'p_value': 0.9500760876489529, 'drift_status': False},\n",
       " 'cs_001': {'p_value': 0.8561239394577945, 'drift_status': False},\n",
       " 'cs_002': {'p_value': 0.7579594081676765, 'drift_status': False},\n",
       " 'cs_003': {'p_value': 0.22138431340766584, 'drift_status': False},\n",
       " 'cs_004': {'p_value': 0.9973067017456088, 'drift_status': False},\n",
       " 'cs_005': {'p_value': 0.6701413009304653, 'drift_status': False},\n",
       " 'cs_006': {'p_value': 0.13326947923406762, 'drift_status': False},\n",
       " 'cs_007': {'p_value': 0.7383856787500975, 'drift_status': False},\n",
       " 'cs_008': {'p_value': 0.5371896411728079, 'drift_status': False},\n",
       " 'cs_009': {'p_value': 1.0, 'drift_status': False},\n",
       " 'ct_000': {'p_value': 0.671146643456046, 'drift_status': False},\n",
       " 'cu_000': {'p_value': 0.7895882678793164, 'drift_status': False},\n",
       " 'cv_000': {'p_value': 0.47831435936587596, 'drift_status': False},\n",
       " 'cx_000': {'p_value': 0.6167308608710715, 'drift_status': False},\n",
       " 'cy_000': {'p_value': 0.5534562796437861, 'drift_status': False},\n",
       " 'cz_000': {'p_value': 0.5195689017621334, 'drift_status': False},\n",
       " 'da_000': {'p_value': 0.4784825530866249, 'drift_status': False},\n",
       " 'db_000': {'p_value': 0.7684791238897353, 'drift_status': False},\n",
       " 'dc_000': {'p_value': 0.4907105179109106, 'drift_status': False},\n",
       " 'dd_000': {'p_value': 0.932420935825411, 'drift_status': False},\n",
       " 'de_000': {'p_value': 0.019584521753370727, 'drift_status': True},\n",
       " 'df_000': {'p_value': 0.9999999998361992, 'drift_status': False},\n",
       " 'dg_000': {'p_value': 0.9999999997029282, 'drift_status': False},\n",
       " 'dh_000': {'p_value': 0.9999999999999999, 'drift_status': False},\n",
       " 'di_000': {'p_value': 0.9995968856363778, 'drift_status': False},\n",
       " 'dj_000': {'p_value': 1.0, 'drift_status': False},\n",
       " 'dk_000': {'p_value': 1.0, 'drift_status': False},\n",
       " 'dl_000': {'p_value': 1.0, 'drift_status': False},\n",
       " 'dm_000': {'p_value': 1.0, 'drift_status': False},\n",
       " 'dn_000': {'p_value': 0.47952175710897615, 'drift_status': False},\n",
       " 'do_000': {'p_value': 0.8492190318813622, 'drift_status': False},\n",
       " 'dp_000': {'p_value': 0.9239876878531387, 'drift_status': False},\n",
       " 'dq_000': {'p_value': 0.9999999479897441, 'drift_status': False},\n",
       " 'dr_000': {'p_value': 0.9995295061059424, 'drift_status': False},\n",
       " 'ds_000': {'p_value': 0.41604681849736025, 'drift_status': False},\n",
       " 'dt_000': {'p_value': 0.44275659433654846, 'drift_status': False},\n",
       " 'du_000': {'p_value': 0.7007019121535569, 'drift_status': False},\n",
       " 'dv_000': {'p_value': 0.8320706174071343, 'drift_status': False},\n",
       " 'dx_000': {'p_value': 0.9784150878250957, 'drift_status': False},\n",
       " 'dy_000': {'p_value': 0.9964517549353913, 'drift_status': False},\n",
       " 'dz_000': {'p_value': 1.0, 'drift_status': False},\n",
       " 'ea_000': {'p_value': 1.0, 'drift_status': False},\n",
       " 'eb_000': {'p_value': 0.24009222253221574, 'drift_status': False},\n",
       " 'ec_00': {'p_value': 0.6797617461481524, 'drift_status': False},\n",
       " 'ed_000': {'p_value': 0.7263516390415938, 'drift_status': False},\n",
       " 'ee_000': {'p_value': 0.49234991796028915, 'drift_status': False},\n",
       " 'ee_001': {'p_value': 0.9957937135429912, 'drift_status': False},\n",
       " 'ee_002': {'p_value': 0.37962314324023017, 'drift_status': False},\n",
       " 'ee_003': {'p_value': 0.5974993392864241, 'drift_status': False},\n",
       " 'ee_004': {'p_value': 0.7013032050383707, 'drift_status': False},\n",
       " 'ee_005': {'p_value': 0.9669161548652825, 'drift_status': False},\n",
       " 'ee_006': {'p_value': 0.7437987991478725, 'drift_status': False},\n",
       " 'ee_007': {'p_value': 0.5629965159334676, 'drift_status': False},\n",
       " 'ee_008': {'p_value': 0.9446779283942119, 'drift_status': False},\n",
       " 'ee_009': {'p_value': 0.9559766553611223, 'drift_status': False},\n",
       " 'ef_000': {'p_value': 1.0, 'drift_status': False},\n",
       " 'eg_000': {'p_value': 1.0, 'drift_status': False}}"
      ]
     },
     "execution_count": 35,
     "metadata": {},
     "output_type": "execute_result"
    }
   ],
   "source": [
    "drift_report"
   ]
  },
  {
   "cell_type": "code",
   "execution_count": 61,
   "metadata": {},
   "outputs": [],
   "source": [
    "write_yaml_file(file_path=os.path.join(os.getcwd(),\"report.yaml\"),content=drift_report,replace=True)"
   ]
  },
  {
   "cell_type": "code",
   "execution_count": 44,
   "metadata": {},
   "outputs": [
    {
     "data": {
      "text/plain": [
       "KstestResult(statistic=0.0005161971383997876, pvalue=1.0)"
      ]
     },
     "execution_count": 44,
     "metadata": {},
     "output_type": "execute_result"
    }
   ],
   "source": [
    "d1 = train_df['class']\n",
    "d2  = test_df['class']\n",
    "ks_2samp(d1,d2)"
   ]
  },
  {
   "cell_type": "code",
   "execution_count": 41,
   "metadata": {},
   "outputs": [
    {
     "data": {
      "text/plain": [
       "KstestResult(statistic=0.009896540089462558, pvalue=0.6183763526162667)"
      ]
     },
     "execution_count": 41,
     "metadata": {},
     "output_type": "execute_result"
    }
   ],
   "source": []
  },
  {
   "cell_type": "code",
   "execution_count": 1,
   "metadata": {},
   "outputs": [],
   "source": [
    "from sensor.ml.model.estimator import TargetValueMapping"
   ]
  },
  {
   "cell_type": "code",
   "execution_count": 4,
   "metadata": {},
   "outputs": [
    {
     "data": {
      "text/plain": [
       "{'neg': 0, 'pos': 1}"
      ]
     },
     "execution_count": 4,
     "metadata": {},
     "output_type": "execute_result"
    }
   ],
   "source": [
    "#.to_dict()\n",
    "TargetValueMapping()\n"
   ]
  },
  {
   "cell_type": "code",
   "execution_count": 5,
   "metadata": {},
   "outputs": [
    {
     "data": {
      "text/plain": [
       "{0: 'neg', 1: 'pos'}"
      ]
     },
     "execution_count": 5,
     "metadata": {},
     "output_type": "execute_result"
    }
   ],
   "source": [
    "TargetValueMapping().reverse_mapping()"
   ]
  },
  {
   "cell_type": "code",
   "execution_count": null,
   "metadata": {},
   "outputs": [],
   "source": []
  }
 ],
 "metadata": {
  "kernelspec": {
   "display_name": "Python 3.8.10 64-bit",
   "language": "python",
   "name": "python3"
  },
  "language_info": {
   "codemirror_mode": {
    "name": "ipython",
    "version": 3
   },
   "file_extension": ".py",
   "mimetype": "text/x-python",
   "name": "python",
   "nbconvert_exporter": "python",
   "pygments_lexer": "ipython3",
   "version": "3.10.13"
  },
  "orig_nbformat": 4,
  "vscode": {
   "interpreter": {
    "hash": "e7370f93d1d0cde622a1f8e1c04877d8463912d04d973331ad4851f04de6915a"
   }
  }
 },
 "nbformat": 4,
 "nbformat_minor": 2
}
